{
 "cells": [
  {
   "cell_type": "code",
   "execution_count": 2,
   "id": "1f708f75",
   "metadata": {
    "scrolled": true
   },
   "outputs": [],
   "source": [
    "import numpy as np\n",
    "import pandas as pd\n",
    "import smtplib\n",
    "import torch\n",
    "import torch.nn as nn\n",
    "import models\n",
    "\n",
    "from email.message import EmailMessage\n",
    "from matplotlib.pylab import plt\n",
    "from sklearn.metrics import accuracy_score, confusion_matrix, f1_score\n",
    "from sklearn.utils.class_weight import compute_class_weight\n",
    "from torch.utils.data import DataLoader, Dataset\n",
    "from tqdm.auto import tqdm"
   ]
  },
  {
   "cell_type": "code",
   "execution_count": 2,
   "id": "c23f0bab",
   "metadata": {
    "scrolled": true
   },
   "outputs": [
    {
     "data": {
      "text/plain": [
       "<module 'models' from '/home/mma6789/Stuff/Studies/sem3/ms_project/models.py'>"
      ]
     },
     "execution_count": 2,
     "metadata": {},
     "output_type": "execute_result"
    }
   ],
   "source": [
    "import importlib\n",
    "importlib.reload(models)"
   ]
  },
  {
   "cell_type": "code",
   "execution_count": 3,
   "id": "c5cb3f78",
   "metadata": {
    "scrolled": true
   },
   "outputs": [
    {
     "name": "stdout",
     "output_type": "stream",
     "text": [
      "Using device: cuda\n",
      "Quadro RTX 6000\n",
      "Memory Usage:\n",
      "Allocated: 0.0 GB\n",
      "Cached:    0.0 GB\n"
     ]
    }
   ],
   "source": [
    "device = torch.device('cuda' if torch.cuda.is_available() else 'cpu')\n",
    "print('Using device:', device)\n",
    "\n",
    "if device.type == 'cuda':\n",
    "    print(torch.cuda.get_device_name(0))\n",
    "    print('Memory Usage:')\n",
    "    print('Allocated:', round(torch.cuda.memory_allocated(0)/1024**3, 1), 'GB')\n",
    "    print('Cached:   ', round(torch.cuda.memory_reserved(0)/1024**3, 1), 'GB')"
   ]
  },
  {
   "cell_type": "code",
   "execution_count": 16,
   "id": "d48ffa19",
   "metadata": {
    "scrolled": true
   },
   "outputs": [],
   "source": [
    "base_dir = '/home/mma6789/Stuff/Studies/sem3/ms_project' #@param {type: 'string'}\n",
    "\n",
    "dataset = 'US-101' #@param ['I-80', 'US-101']\n",
    "t_o = 5000 #@param [3000, 4000, 5000] -> observation horizon\n",
    "t_p = 2000 #@param [1500, 2000, 2500] -> prediction horizon\n",
    "\n",
    "method = 'LSTMHMM' #@param ['LSTM', 'HMM', 'LSTMHMM']\n",
    "\n",
    "timesteps = t_o // 100\n",
    "variables = 5"
   ]
  },
  {
   "cell_type": "code",
   "execution_count": 5,
   "id": "c8483456",
   "metadata": {
    "scrolled": true
   },
   "outputs": [
    {
     "data": {
      "text/plain": [
       "tensor([14.3963,  0.3458, 25.8265], device='cuda:0')"
      ]
     },
     "execution_count": 5,
     "metadata": {},
     "output_type": "execute_result"
    }
   ],
   "source": [
    "## Load class weights\n",
    "class_weights = np.load(f'{base_dir}/data/processed/{dataset}/{t_o}_{t_p}_class_weights.npy')\n",
    "class_weights = torch.tensor(class_weights, dtype=torch.float).to(device)\n",
    "\n",
    "class_weights"
   ]
  },
  {
   "cell_type": "code",
   "execution_count": 6,
   "id": "4550255e",
   "metadata": {
    "scrolled": true
   },
   "outputs": [],
   "source": [
    "## Load data splits\n",
    "train = np.load(f'{base_dir}/data/processed/{dataset}/{t_o}_{t_p}_train.npy')\n",
    "valid = np.load(f'{base_dir}/data/processed/{dataset}/{t_o}_{t_p}_valid.npy')\n",
    "\n",
    "train_X, train_y = np.split(train, [-3], axis=1)\n",
    "valid_X, valid_y = np.split(valid, [-3], axis=1)\n",
    "\n",
    "temp = np.empty((len(train_X), timesteps, variables))\n",
    "for i in range(len(train_X)):\n",
    "    temp[i] = np.array(np.split(train_X[i], timesteps))\n",
    "train_X = temp\n",
    "\n",
    "temp = np.empty((len(valid_X), timesteps, variables))\n",
    "for i in range(len(valid_X)):\n",
    "    temp[i] = np.array(np.split(valid_X[i], timesteps))\n",
    "valid_X = temp"
   ]
  },
  {
   "cell_type": "code",
   "execution_count": 7,
   "id": "23ea8bc1",
   "metadata": {
    "scrolled": true
   },
   "outputs": [
    {
     "name": "stdout",
     "output_type": "stream",
     "text": [
      "(1796828, 50, 5) (1796828, 3) (385035, 50, 5) (385035, 3) (385035, 50, 5) (385035, 3)\n"
     ]
    }
   ],
   "source": [
    "print(train_X.shape, train_y.shape, valid_X.shape, valid_y.shape)"
   ]
  },
  {
   "cell_type": "code",
   "execution_count": 8,
   "id": "6fe67278",
   "metadata": {
    "scrolled": true
   },
   "outputs": [],
   "source": [
    "train_X = torch.tensor(train_X).float()\n",
    "train_y = torch.tensor(train_y).float()\n",
    "valid_X = torch.tensor(valid_X).float()\n",
    "valid_y = torch.tensor(valid_y).float()\n",
    "test_X = torch.tensor(test_X).float()\n",
    "test_y = torch.tensor(test_y).float()"
   ]
  },
  {
   "cell_type": "code",
   "execution_count": 9,
   "id": "6eb8b324",
   "metadata": {
    "scrolled": true
   },
   "outputs": [],
   "source": [
    "class LSTMDataset(Dataset):\n",
    "    def __init__(self, X, y):\n",
    "        self.X = X\n",
    "        self.y = y\n",
    "\n",
    "    def __len__(self):\n",
    "        return len(self.X)\n",
    "\n",
    "    def __getitem__(self, i):\n",
    "        return self.X[i], self.y[i]\n",
    "    \n",
    "train_dataset = LSTMDataset(train_X, train_y)\n",
    "valid_dataset = LSTMDataset(valid_X, valid_y)\n",
    "test_dataset = LSTMDataset(test_X, test_y)"
   ]
  },
  {
   "cell_type": "code",
   "execution_count": 10,
   "id": "d6d13126",
   "metadata": {
    "scrolled": true
   },
   "outputs": [],
   "source": [
    "batch_size = 192\n",
    "\n",
    "train_loader = DataLoader(train_dataset, batch_size=batch_size, shuffle=True)\n",
    "valid_loader = DataLoader(valid_dataset, batch_size=batch_size, shuffle=False)\n",
    "test_loader = DataLoader(test_dataset, batch_size=batch_size, shuffle=False)"
   ]
  },
  {
   "cell_type": "code",
   "execution_count": 11,
   "id": "be86d054",
   "metadata": {
    "scrolled": true
   },
   "outputs": [],
   "source": [
    "def train_epoch():\n",
    "    model.train(True)\n",
    "    running_loss = 0.0\n",
    "    y_true = []\n",
    "    y_pred = []\n",
    "    \n",
    "    for batch_index, batch in enumerate(tqdm(train_loader, desc=f'Epoch {epoch + 1} train')):\n",
    "        x_batch, y_batch = batch[0].to(device), batch[1].to(device)\n",
    "\n",
    "        output = model(x_batch)\n",
    "        loss = loss_function(output, y_batch)\n",
    "        running_loss += loss.item()\n",
    "        \n",
    "        y_true += torch.argmax(y_batch, dim=1).flatten().tolist()\n",
    "        y_pred += torch.argmax(output, dim=1).cpu().detach().numpy().tolist()\n",
    "        \n",
    "        optimizer.zero_grad()\n",
    "        loss.backward()\n",
    "        optimizer.step()\n",
    "\n",
    "    avg_batch_loss = running_loss / len(train_loader)\n",
    "    acc = accuracy_score(y_true, y_pred)\n",
    "    f1 = f1_score(y_true, y_pred, average='weighted')\n",
    "    \n",
    "    matrix = confusion_matrix(y_true, y_pred)\n",
    "    class_acc = matrix.diagonal() / matrix.sum(axis=1)\n",
    "    \n",
    "    train_loss.append(avg_batch_loss)\n",
    "    train_acc.append(acc)\n",
    "    train_f1.append(f1)\n",
    "    train_class_acc.append(class_acc)\n",
    "    \n",
    "    print('Train epoch results:')\n",
    "    print(f'Loss: {avg_batch_loss}')\n",
    "    print(f'Acc: {acc}')\n",
    "    print(f'F1: {f1}')\n",
    "    print(f'Class Acc: {class_acc}')"
   ]
  },
  {
   "cell_type": "code",
   "execution_count": 12,
   "id": "a57173ca",
   "metadata": {
    "scrolled": true
   },
   "outputs": [],
   "source": [
    "def validate_epoch():\n",
    "    model.train(False)\n",
    "    running_loss = 0.0\n",
    "    y_true = []\n",
    "    y_pred = []\n",
    "    \n",
    "    for batch_index, batch in enumerate(tqdm(valid_loader, desc=f'Epoch {epoch + 1} valid')):\n",
    "        x_batch, y_batch = batch[0].to(device), batch[1].to(device)\n",
    "        \n",
    "        with torch.no_grad():\n",
    "            output = model(x_batch)\n",
    "            loss = loss_function(output, y_batch)\n",
    "            running_loss += loss.item()\n",
    "            \n",
    "        y_true += torch.argmax(y_batch, dim=1).flatten().tolist()\n",
    "        y_pred += torch.argmax(output, dim=1).cpu().detach().numpy().tolist()\n",
    "            \n",
    "    avg_batch_loss = running_loss / len(valid_loader)\n",
    "    acc = accuracy_score(y_true, y_pred)\n",
    "    f1 = f1_score(y_true, y_pred, average='weighted')\n",
    "    \n",
    "    matrix = confusion_matrix(y_true, y_pred)\n",
    "    class_acc = matrix.diagonal() / matrix.sum(axis=1)\n",
    "    \n",
    "    valid_loss.append(avg_batch_loss)\n",
    "    valid_acc.append(acc)\n",
    "    valid_f1.append(f1)\n",
    "    valid_class_acc.append(class_acc)\n",
    "    \n",
    "    print('Valid epoch results:')\n",
    "    print(f'Loss: {avg_batch_loss}')\n",
    "    print(f'Acc: {acc}')\n",
    "    print(f'F1: {f1}')\n",
    "    print(f'Class Acc: {class_acc}')\n",
    "    print('***************************************************')"
   ]
  },
  {
   "cell_type": "code",
   "execution_count": 17,
   "id": "e7acb8cd",
   "metadata": {
    "scrolled": false
   },
   "outputs": [
    {
     "data": {
      "text/plain": [
       "Three_LSTMHMM(\n",
       "  (lcl_model): LSTMHMM(\n",
       "    (transition_model): TransitionModel()\n",
       "    (emission_model): LSTMEmissionModel(\n",
       "      (lstm): LSTM(5, 150, batch_first=True)\n",
       "      (linear): Linear(in_features=150, out_features=30, bias=True)\n",
       "    )\n",
       "  )\n",
       "  (lk_model): LSTMHMM(\n",
       "    (transition_model): TransitionModel()\n",
       "    (emission_model): LSTMEmissionModel(\n",
       "      (lstm): LSTM(5, 150, batch_first=True)\n",
       "      (linear): Linear(in_features=150, out_features=30, bias=True)\n",
       "    )\n",
       "  )\n",
       "  (lcr_model): LSTMHMM(\n",
       "    (transition_model): TransitionModel()\n",
       "    (emission_model): LSTMEmissionModel(\n",
       "      (lstm): LSTM(5, 150, batch_first=True)\n",
       "      (linear): Linear(in_features=150, out_features=30, bias=True)\n",
       "    )\n",
       "  )\n",
       ")"
      ]
     },
     "execution_count": 17,
     "metadata": {},
     "output_type": "execute_result"
    }
   ],
   "source": [
    "## Initialize model\n",
    "if method == 'LSTM':\n",
    "    input_size = variables\n",
    "    hidden_size = 150\n",
    "    num_layers = 1\n",
    "    output_size = 3\n",
    "\n",
    "    model = models.Three_LSTM(input_size, hidden_size, num_layers, output_size)\n",
    "    model.to(device)\n",
    "elif method == 'HMM':\n",
    "    input_size = variables\n",
    "    hidden_states = 30\n",
    "    output_size = 3\n",
    "    \n",
    "    model = models.Three_HMM(input_size, hidden_states, output_size)\n",
    "    model.to(device)\n",
    "elif method == 'LSTMHMM':\n",
    "    input_size = variables\n",
    "    hidden_size = 150\n",
    "    hidden_states = 30\n",
    "    output_size = 3\n",
    "    \n",
    "    model = models.Three_LSTMHMM(input_size, hidden_size, hidden_states, output_size)\n",
    "    model.to(device)\n",
    "\n",
    "model"
   ]
  },
  {
   "cell_type": "code",
   "execution_count": 18,
   "id": "9c848d93",
   "metadata": {},
   "outputs": [
    {
     "data": {
      "application/vnd.jupyter.widget-view+json": {
       "model_id": "17046de262694ec687055d1a2e7cb39b",
       "version_major": 2,
       "version_minor": 0
      },
      "text/plain": [
       "Training progress:   0%|          | 0/140 [00:00<?, ?it/s]"
      ]
     },
     "metadata": {},
     "output_type": "display_data"
    },
    {
     "data": {
      "application/vnd.jupyter.widget-view+json": {
       "model_id": "9b9ebd50d7d74d16879a13c58d99e537",
       "version_major": 2,
       "version_minor": 0
      },
      "text/plain": [
       "Epoch 1 train:   0%|          | 0/9359 [00:00<?, ?it/s]"
      ]
     },
     "metadata": {},
     "output_type": "display_data"
    },
    {
     "name": "stdout",
     "output_type": "stream",
     "text": [
      "Train epoch results:\n",
      "Loss: 0.9124986920260966\n",
      "Acc: 0.6283044342585935\n",
      "F1: 0.7454317783609521\n",
      "Class Acc: [0.57516387 0.63172877 0.46867351]\n"
     ]
    },
    {
     "data": {
      "application/vnd.jupyter.widget-view+json": {
       "model_id": "6ee3e11adff54ca8b2c9c9ef4aa47b82",
       "version_major": 2,
       "version_minor": 0
      },
      "text/plain": [
       "Epoch 1 valid:   0%|          | 0/2006 [00:00<?, ?it/s]"
      ]
     },
     "metadata": {},
     "output_type": "display_data"
    },
    {
     "name": "stdout",
     "output_type": "stream",
     "text": [
      "Valid epoch results:\n",
      "Loss: 0.8855455223459784\n",
      "Acc: 0.7929071383121015\n",
      "F1: 0.85776625678017\n",
      "Class Acc: [0.48700707 0.80531054 0.40568319]\n",
      "***************************************************\n"
     ]
    },
    {
     "data": {
      "application/vnd.jupyter.widget-view+json": {
       "model_id": "b8182ceda91c4f008958d01b2e2cea23",
       "version_major": 2,
       "version_minor": 0
      },
      "text/plain": [
       "Epoch 2 train:   0%|          | 0/9359 [00:00<?, ?it/s]"
      ]
     },
     "metadata": {},
     "output_type": "display_data"
    },
    {
     "ename": "KeyboardInterrupt",
     "evalue": "",
     "output_type": "error",
     "traceback": [
      "\u001b[0;31m---------------------------------------------------------------------------\u001b[0m",
      "\u001b[0;31mKeyboardInterrupt\u001b[0m                         Traceback (most recent call last)",
      "Cell \u001b[0;32mIn[18], line 18\u001b[0m\n\u001b[1;32m     15\u001b[0m valid_class_acc \u001b[38;5;241m=\u001b[39m []\n\u001b[1;32m     17\u001b[0m \u001b[38;5;28;01mfor\u001b[39;00m epoch \u001b[38;5;129;01min\u001b[39;00m tqdm(\u001b[38;5;28mrange\u001b[39m(num_epochs), desc\u001b[38;5;241m=\u001b[39m\u001b[38;5;124m'\u001b[39m\u001b[38;5;124mTraining progress\u001b[39m\u001b[38;5;124m'\u001b[39m):\n\u001b[0;32m---> 18\u001b[0m     train_epoch()\n\u001b[1;32m     19\u001b[0m     validate_epoch()\n",
      "Cell \u001b[0;32mIn[11], line 10\u001b[0m, in \u001b[0;36mtrain_epoch\u001b[0;34m()\u001b[0m\n\u001b[1;32m      7\u001b[0m \u001b[38;5;28;01mfor\u001b[39;00m batch_index, batch \u001b[38;5;129;01min\u001b[39;00m \u001b[38;5;28menumerate\u001b[39m(tqdm(train_loader, desc\u001b[38;5;241m=\u001b[39m\u001b[38;5;124mf\u001b[39m\u001b[38;5;124m'\u001b[39m\u001b[38;5;124mEpoch \u001b[39m\u001b[38;5;132;01m{\u001b[39;00mepoch\u001b[38;5;250m \u001b[39m\u001b[38;5;241m+\u001b[39m\u001b[38;5;250m \u001b[39m\u001b[38;5;241m1\u001b[39m\u001b[38;5;132;01m}\u001b[39;00m\u001b[38;5;124m train\u001b[39m\u001b[38;5;124m'\u001b[39m)):\n\u001b[1;32m      8\u001b[0m     x_batch, y_batch \u001b[38;5;241m=\u001b[39m batch[\u001b[38;5;241m0\u001b[39m]\u001b[38;5;241m.\u001b[39mto(device), batch[\u001b[38;5;241m1\u001b[39m]\u001b[38;5;241m.\u001b[39mto(device)\n\u001b[0;32m---> 10\u001b[0m     output \u001b[38;5;241m=\u001b[39m model(x_batch)\n\u001b[1;32m     11\u001b[0m     loss \u001b[38;5;241m=\u001b[39m loss_function(output, y_batch)\n\u001b[1;32m     12\u001b[0m     running_loss \u001b[38;5;241m+\u001b[39m\u001b[38;5;241m=\u001b[39m loss\u001b[38;5;241m.\u001b[39mitem()\n",
      "File \u001b[0;32m~/anaconda/envs/ms_project/lib/python3.11/site-packages/torch/nn/modules/module.py:1519\u001b[0m, in \u001b[0;36mModule._wrapped_call_impl\u001b[0;34m(self, *args, **kwargs)\u001b[0m\n\u001b[1;32m   1517\u001b[0m     \u001b[38;5;28;01mreturn\u001b[39;00m \u001b[38;5;28mself\u001b[39m\u001b[38;5;241m.\u001b[39m_compiled_call_impl(\u001b[38;5;241m*\u001b[39margs, \u001b[38;5;241m*\u001b[39m\u001b[38;5;241m*\u001b[39mkwargs)  \u001b[38;5;66;03m# type: ignore[misc]\u001b[39;00m\n\u001b[1;32m   1518\u001b[0m \u001b[38;5;28;01melse\u001b[39;00m:\n\u001b[0;32m-> 1519\u001b[0m     \u001b[38;5;28;01mreturn\u001b[39;00m \u001b[38;5;28mself\u001b[39m\u001b[38;5;241m.\u001b[39m_call_impl(\u001b[38;5;241m*\u001b[39margs, \u001b[38;5;241m*\u001b[39m\u001b[38;5;241m*\u001b[39mkwargs)\n",
      "File \u001b[0;32m~/anaconda/envs/ms_project/lib/python3.11/site-packages/torch/nn/modules/module.py:1528\u001b[0m, in \u001b[0;36mModule._call_impl\u001b[0;34m(self, *args, **kwargs)\u001b[0m\n\u001b[1;32m   1523\u001b[0m \u001b[38;5;66;03m# If we don't have any hooks, we want to skip the rest of the logic in\u001b[39;00m\n\u001b[1;32m   1524\u001b[0m \u001b[38;5;66;03m# this function, and just call forward.\u001b[39;00m\n\u001b[1;32m   1525\u001b[0m \u001b[38;5;28;01mif\u001b[39;00m \u001b[38;5;129;01mnot\u001b[39;00m (\u001b[38;5;28mself\u001b[39m\u001b[38;5;241m.\u001b[39m_backward_hooks \u001b[38;5;129;01mor\u001b[39;00m \u001b[38;5;28mself\u001b[39m\u001b[38;5;241m.\u001b[39m_backward_pre_hooks \u001b[38;5;129;01mor\u001b[39;00m \u001b[38;5;28mself\u001b[39m\u001b[38;5;241m.\u001b[39m_forward_hooks \u001b[38;5;129;01mor\u001b[39;00m \u001b[38;5;28mself\u001b[39m\u001b[38;5;241m.\u001b[39m_forward_pre_hooks\n\u001b[1;32m   1526\u001b[0m         \u001b[38;5;129;01mor\u001b[39;00m _global_backward_pre_hooks \u001b[38;5;129;01mor\u001b[39;00m _global_backward_hooks\n\u001b[1;32m   1527\u001b[0m         \u001b[38;5;129;01mor\u001b[39;00m _global_forward_hooks \u001b[38;5;129;01mor\u001b[39;00m _global_forward_pre_hooks):\n\u001b[0;32m-> 1528\u001b[0m     \u001b[38;5;28;01mreturn\u001b[39;00m forward_call(\u001b[38;5;241m*\u001b[39margs, \u001b[38;5;241m*\u001b[39m\u001b[38;5;241m*\u001b[39mkwargs)\n\u001b[1;32m   1530\u001b[0m \u001b[38;5;28;01mtry\u001b[39;00m:\n\u001b[1;32m   1531\u001b[0m     result \u001b[38;5;241m=\u001b[39m \u001b[38;5;28;01mNone\u001b[39;00m\n",
      "File \u001b[0;32m~/Stuff/Studies/sem3/ms_project/models.py:90\u001b[0m, in \u001b[0;36mThree_LSTMHMM.forward\u001b[0;34m(self, x)\u001b[0m\n\u001b[1;32m     87\u001b[0m pred \u001b[38;5;241m=\u001b[39m torch\u001b[38;5;241m.\u001b[39mzeros(batch_size, \u001b[38;5;28mself\u001b[39m\u001b[38;5;241m.\u001b[39moutput_size)\u001b[38;5;241m.\u001b[39mto(device)\n\u001b[1;32m     89\u001b[0m pred[:, \u001b[38;5;241m0\u001b[39m] \u001b[38;5;241m=\u001b[39m \u001b[38;5;28mself\u001b[39m\u001b[38;5;241m.\u001b[39mlcl_model(x\u001b[38;5;241m.\u001b[39mdetach()\u001b[38;5;241m.\u001b[39mclone()\u001b[38;5;241m.\u001b[39mto(device))\n\u001b[0;32m---> 90\u001b[0m pred[:, \u001b[38;5;241m1\u001b[39m] \u001b[38;5;241m=\u001b[39m \u001b[38;5;28mself\u001b[39m\u001b[38;5;241m.\u001b[39mlk_model(x\u001b[38;5;241m.\u001b[39mdetach()\u001b[38;5;241m.\u001b[39mclone()\u001b[38;5;241m.\u001b[39mto(device))\n\u001b[1;32m     91\u001b[0m pred[:, \u001b[38;5;241m2\u001b[39m] \u001b[38;5;241m=\u001b[39m \u001b[38;5;28mself\u001b[39m\u001b[38;5;241m.\u001b[39mlcr_model(x\u001b[38;5;241m.\u001b[39mdetach()\u001b[38;5;241m.\u001b[39mclone()\u001b[38;5;241m.\u001b[39mto(device))\n\u001b[1;32m     93\u001b[0m \u001b[38;5;28;01mreturn\u001b[39;00m pred\n",
      "File \u001b[0;32m~/anaconda/envs/ms_project/lib/python3.11/site-packages/torch/nn/modules/module.py:1519\u001b[0m, in \u001b[0;36mModule._wrapped_call_impl\u001b[0;34m(self, *args, **kwargs)\u001b[0m\n\u001b[1;32m   1517\u001b[0m     \u001b[38;5;28;01mreturn\u001b[39;00m \u001b[38;5;28mself\u001b[39m\u001b[38;5;241m.\u001b[39m_compiled_call_impl(\u001b[38;5;241m*\u001b[39margs, \u001b[38;5;241m*\u001b[39m\u001b[38;5;241m*\u001b[39mkwargs)  \u001b[38;5;66;03m# type: ignore[misc]\u001b[39;00m\n\u001b[1;32m   1518\u001b[0m \u001b[38;5;28;01melse\u001b[39;00m:\n\u001b[0;32m-> 1519\u001b[0m     \u001b[38;5;28;01mreturn\u001b[39;00m \u001b[38;5;28mself\u001b[39m\u001b[38;5;241m.\u001b[39m_call_impl(\u001b[38;5;241m*\u001b[39margs, \u001b[38;5;241m*\u001b[39m\u001b[38;5;241m*\u001b[39mkwargs)\n",
      "File \u001b[0;32m~/anaconda/envs/ms_project/lib/python3.11/site-packages/torch/nn/modules/module.py:1528\u001b[0m, in \u001b[0;36mModule._call_impl\u001b[0;34m(self, *args, **kwargs)\u001b[0m\n\u001b[1;32m   1523\u001b[0m \u001b[38;5;66;03m# If we don't have any hooks, we want to skip the rest of the logic in\u001b[39;00m\n\u001b[1;32m   1524\u001b[0m \u001b[38;5;66;03m# this function, and just call forward.\u001b[39;00m\n\u001b[1;32m   1525\u001b[0m \u001b[38;5;28;01mif\u001b[39;00m \u001b[38;5;129;01mnot\u001b[39;00m (\u001b[38;5;28mself\u001b[39m\u001b[38;5;241m.\u001b[39m_backward_hooks \u001b[38;5;129;01mor\u001b[39;00m \u001b[38;5;28mself\u001b[39m\u001b[38;5;241m.\u001b[39m_backward_pre_hooks \u001b[38;5;129;01mor\u001b[39;00m \u001b[38;5;28mself\u001b[39m\u001b[38;5;241m.\u001b[39m_forward_hooks \u001b[38;5;129;01mor\u001b[39;00m \u001b[38;5;28mself\u001b[39m\u001b[38;5;241m.\u001b[39m_forward_pre_hooks\n\u001b[1;32m   1526\u001b[0m         \u001b[38;5;129;01mor\u001b[39;00m _global_backward_pre_hooks \u001b[38;5;129;01mor\u001b[39;00m _global_backward_hooks\n\u001b[1;32m   1527\u001b[0m         \u001b[38;5;129;01mor\u001b[39;00m _global_forward_hooks \u001b[38;5;129;01mor\u001b[39;00m _global_forward_pre_hooks):\n\u001b[0;32m-> 1528\u001b[0m     \u001b[38;5;28;01mreturn\u001b[39;00m forward_call(\u001b[38;5;241m*\u001b[39margs, \u001b[38;5;241m*\u001b[39m\u001b[38;5;241m*\u001b[39mkwargs)\n\u001b[1;32m   1530\u001b[0m \u001b[38;5;28;01mtry\u001b[39;00m:\n\u001b[1;32m   1531\u001b[0m     result \u001b[38;5;241m=\u001b[39m \u001b[38;5;28;01mNone\u001b[39;00m\n",
      "File \u001b[0;32m~/Stuff/Studies/sem3/ms_project/models.py:145\u001b[0m, in \u001b[0;36mLSTMHMM.forward\u001b[0;34m(self, x)\u001b[0m\n\u001b[1;32m    143\u001b[0m log_alpha \u001b[38;5;241m=\u001b[39m emission[:, \u001b[38;5;241m0\u001b[39m, :] \u001b[38;5;241m+\u001b[39m log_state_priors\n\u001b[1;32m    144\u001b[0m \u001b[38;5;28;01mfor\u001b[39;00m t \u001b[38;5;129;01min\u001b[39;00m \u001b[38;5;28mrange\u001b[39m(\u001b[38;5;241m1\u001b[39m, timesteps):\n\u001b[0;32m--> 145\u001b[0m     log_alpha \u001b[38;5;241m=\u001b[39m emission[:, t, :] \u001b[38;5;241m+\u001b[39m \u001b[38;5;28mself\u001b[39m\u001b[38;5;241m.\u001b[39mtransition_model(log_alpha)\n\u001b[1;32m    147\u001b[0m log_probs \u001b[38;5;241m=\u001b[39m log_alpha\u001b[38;5;241m.\u001b[39mlogsumexp(dim\u001b[38;5;241m=\u001b[39m\u001b[38;5;241m1\u001b[39m)\n\u001b[1;32m    148\u001b[0m \u001b[38;5;28;01mreturn\u001b[39;00m log_probs\n",
      "File \u001b[0;32m~/anaconda/envs/ms_project/lib/python3.11/site-packages/torch/nn/modules/module.py:1519\u001b[0m, in \u001b[0;36mModule._wrapped_call_impl\u001b[0;34m(self, *args, **kwargs)\u001b[0m\n\u001b[1;32m   1517\u001b[0m     \u001b[38;5;28;01mreturn\u001b[39;00m \u001b[38;5;28mself\u001b[39m\u001b[38;5;241m.\u001b[39m_compiled_call_impl(\u001b[38;5;241m*\u001b[39margs, \u001b[38;5;241m*\u001b[39m\u001b[38;5;241m*\u001b[39mkwargs)  \u001b[38;5;66;03m# type: ignore[misc]\u001b[39;00m\n\u001b[1;32m   1518\u001b[0m \u001b[38;5;28;01melse\u001b[39;00m:\n\u001b[0;32m-> 1519\u001b[0m     \u001b[38;5;28;01mreturn\u001b[39;00m \u001b[38;5;28mself\u001b[39m\u001b[38;5;241m.\u001b[39m_call_impl(\u001b[38;5;241m*\u001b[39margs, \u001b[38;5;241m*\u001b[39m\u001b[38;5;241m*\u001b[39mkwargs)\n",
      "File \u001b[0;32m~/anaconda/envs/ms_project/lib/python3.11/site-packages/torch/nn/modules/module.py:1528\u001b[0m, in \u001b[0;36mModule._call_impl\u001b[0;34m(self, *args, **kwargs)\u001b[0m\n\u001b[1;32m   1523\u001b[0m \u001b[38;5;66;03m# If we don't have any hooks, we want to skip the rest of the logic in\u001b[39;00m\n\u001b[1;32m   1524\u001b[0m \u001b[38;5;66;03m# this function, and just call forward.\u001b[39;00m\n\u001b[1;32m   1525\u001b[0m \u001b[38;5;28;01mif\u001b[39;00m \u001b[38;5;129;01mnot\u001b[39;00m (\u001b[38;5;28mself\u001b[39m\u001b[38;5;241m.\u001b[39m_backward_hooks \u001b[38;5;129;01mor\u001b[39;00m \u001b[38;5;28mself\u001b[39m\u001b[38;5;241m.\u001b[39m_backward_pre_hooks \u001b[38;5;129;01mor\u001b[39;00m \u001b[38;5;28mself\u001b[39m\u001b[38;5;241m.\u001b[39m_forward_hooks \u001b[38;5;129;01mor\u001b[39;00m \u001b[38;5;28mself\u001b[39m\u001b[38;5;241m.\u001b[39m_forward_pre_hooks\n\u001b[1;32m   1526\u001b[0m         \u001b[38;5;129;01mor\u001b[39;00m _global_backward_pre_hooks \u001b[38;5;129;01mor\u001b[39;00m _global_backward_hooks\n\u001b[1;32m   1527\u001b[0m         \u001b[38;5;129;01mor\u001b[39;00m _global_forward_hooks \u001b[38;5;129;01mor\u001b[39;00m _global_forward_pre_hooks):\n\u001b[0;32m-> 1528\u001b[0m     \u001b[38;5;28;01mreturn\u001b[39;00m forward_call(\u001b[38;5;241m*\u001b[39margs, \u001b[38;5;241m*\u001b[39m\u001b[38;5;241m*\u001b[39mkwargs)\n\u001b[1;32m   1530\u001b[0m \u001b[38;5;28;01mtry\u001b[39;00m:\n\u001b[1;32m   1531\u001b[0m     result \u001b[38;5;241m=\u001b[39m \u001b[38;5;28;01mNone\u001b[39;00m\n",
      "File \u001b[0;32m~/Stuff/Studies/sem3/ms_project/models.py:158\u001b[0m, in \u001b[0;36mTransitionModel.forward\u001b[0;34m(self, log_alpha)\u001b[0m\n\u001b[1;32m    156\u001b[0m \u001b[38;5;28;01mdef\u001b[39;00m \u001b[38;5;21mforward\u001b[39m(\u001b[38;5;28mself\u001b[39m, log_alpha):\n\u001b[1;32m    157\u001b[0m     log_transition_matrix \u001b[38;5;241m=\u001b[39m nn\u001b[38;5;241m.\u001b[39mfunctional\u001b[38;5;241m.\u001b[39mlog_softmax(\u001b[38;5;28mself\u001b[39m\u001b[38;5;241m.\u001b[39munnormalized_transition_matrix, dim\u001b[38;5;241m=\u001b[39m\u001b[38;5;241m0\u001b[39m)\n\u001b[0;32m--> 158\u001b[0m     out \u001b[38;5;241m=\u001b[39m log_domain_matmul(log_transition_matrix, log_alpha\u001b[38;5;241m.\u001b[39mtranspose(\u001b[38;5;241m0\u001b[39m, \u001b[38;5;241m1\u001b[39m))\u001b[38;5;241m.\u001b[39mtranspose(\u001b[38;5;241m0\u001b[39m, \u001b[38;5;241m1\u001b[39m)\n\u001b[1;32m    160\u001b[0m     \u001b[38;5;28;01mreturn\u001b[39;00m out\n",
      "\u001b[0;31mKeyboardInterrupt\u001b[0m: "
     ]
    }
   ],
   "source": [
    "## Train model\n",
    "learning_rate = 0.0002\n",
    "num_epochs = 140\n",
    "\n",
    "loss_function = nn.CrossEntropyLoss(weight=class_weights)\n",
    "optimizer = torch.optim.Adam(model.parameters(), lr=learning_rate)\n",
    "\n",
    "train_loss = []\n",
    "train_acc = []\n",
    "train_f1 = []\n",
    "train_class_acc = []\n",
    "valid_loss = []\n",
    "valid_acc = []\n",
    "valid_f1 = []\n",
    "valid_class_acc = []\n",
    "\n",
    "for epoch in tqdm(range(num_epochs), desc='Training progress'):\n",
    "    train_epoch()\n",
    "    validate_epoch()"
   ]
  },
  {
   "cell_type": "code",
   "execution_count": 27,
   "id": "720adb78",
   "metadata": {},
   "outputs": [],
   "source": [
    "## Save model to file\n",
    "torch.save(model, f'{base_dir}/models/{method}/{dataset}/model_{t_o}_{t_p}_{learning_rate}.pt')"
   ]
  },
  {
   "cell_type": "code",
   "execution_count": 28,
   "id": "d936383c",
   "metadata": {
    "scrolled": true
   },
   "outputs": [],
   "source": [
    "## Write metrics to file\n",
    "metrics = pd.DataFrame(data={\n",
    "    'train_loss': train_loss, 'train_acc': train_acc, 'train_f1': train_f1, 'train_class_acc': train_class_acc,\n",
    "    'valid_loss': valid_loss, 'valid_acc': valid_acc, 'valid_f1': valid_f1, 'valid_class_acc': valid_class_acc,\n",
    "})\n",
    "\n",
    "metrics.to_json(f'{base_dir}/metrics/{method}/{dataset}/training_{t_o}_{t_p}_{learning_rate}.json')"
   ]
  },
  {
   "cell_type": "code",
   "execution_count": 5,
   "id": "1ca70149",
   "metadata": {
    "scrolled": true
   },
   "outputs": [
    {
     "data": {
      "text/plain": [
       "(221, b'2.0.0 h3shannon.cs.hbg.psu.edu closing connection')"
      ]
     },
     "execution_count": 5,
     "metadata": {},
     "output_type": "execute_result"
    }
   ],
   "source": [
    "msg = EmailMessage()\n",
    "\n",
    "msg.set_content(metrics.to_string())\n",
    "msg['Subject'] = f'Testing metrics of {method} on {dataset} with {learning_rate}'\n",
    "\n",
    "msg['From'] = 'mma6789@psu.edu'\n",
    "msg['To'] = 'mahmad97taha@gmail.com'\n",
    "\n",
    "s = smtplib.SMTP('localhost')\n",
    "s.send_message(msg)\n",
    "s.quit()"
   ]
  },
  {
   "cell_type": "code",
   "execution_count": null,
   "id": "55e8f401",
   "metadata": {},
   "outputs": [],
   "source": []
  }
 ],
 "metadata": {
  "kernelspec": {
   "display_name": "Python 3 (ipykernel)",
   "language": "python",
   "name": "python3"
  },
  "language_info": {
   "codemirror_mode": {
    "name": "ipython",
    "version": 3
   },
   "file_extension": ".py",
   "mimetype": "text/x-python",
   "name": "python",
   "nbconvert_exporter": "python",
   "pygments_lexer": "ipython3",
   "version": "3.11.5"
  }
 },
 "nbformat": 4,
 "nbformat_minor": 5
}
