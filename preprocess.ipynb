{
 "cells": [
  {
   "cell_type": "code",
   "execution_count": 1,
   "id": "1edbdef4",
   "metadata": {},
   "outputs": [],
   "source": [
    "import numpy as np\n",
    "import os\n",
    "import pandas as pd\n",
    "import pickle\n",
    "\n",
    "from sklearn.neighbors import KNeighborsClassifier\n",
    "from sklearn.preprocessing import MinMaxScaler\n",
    "from sklearn.utils.class_weight import compute_class_weight\n",
    "\n",
    "from tqdm.auto import tqdm"
   ]
  },
  {
   "cell_type": "code",
   "execution_count": 2,
   "id": "11d412aa",
   "metadata": {},
   "outputs": [],
   "source": [
    "base_dir = '/home/mma6789/Stuff/Studies/sem3/ms_project' #@param {type: 'string'}\n",
    "\n",
    "dataset = 'US-101' #@param ['I-80', 'US-101']\n",
    "t_o = 5000 #@param [3000, 4000, 5000] -> observation horizon\n",
    "t_p = 3500 #@param [2000, 2500, 3000, 3500] -> prediction horizon"
   ]
  },
  {
   "cell_type": "code",
   "execution_count": 3,
   "id": "9654a421",
   "metadata": {},
   "outputs": [],
   "source": [
    "def series_to_data(series):\n",
    "    observed_instances = t_o // 100\n",
    "    prediction_skip = t_p // 100\n",
    "    \n",
    "    df = pd.DataFrame(series)\n",
    "    \n",
    "    out = df.filter([4], axis=1)\n",
    "    out = out.shift(-(observed_instances + prediction_skip))\n",
    "    out.rename(columns={4: 'y'}, inplace=True)\n",
    "\n",
    "    cols, names = list(), list()\n",
    "    \n",
    "    for i in range(observed_instances, 0, -1):\n",
    "        cols.append(df.shift(i))\n",
    "        names += [('x%d(t-%d)' % (j, i)) for j in range(5)]\n",
    "    \n",
    "    cols.append(out)\n",
    "    names += [('y')]\n",
    "    \n",
    "    agg = pd.concat(cols, axis=1)\n",
    "    agg.columns = names\n",
    "    agg.dropna(inplace=True)\n",
    "    \n",
    "    agg['LCL'] = 0.0\n",
    "    agg['LK'] = 0.0\n",
    "    agg['LCR'] = 0.0\n",
    "    \n",
    "    for i, row in agg.iterrows():\n",
    "        if row['y'] > row['x4(t-1)']:\n",
    "            agg.at[i,'LCR'] = 1.0\n",
    "        elif row['y'] < row['x4(t-1)']:\n",
    "            agg.at[i,'LCL'] = 1.0\n",
    "        else:\n",
    "            agg.at[i,'LK'] = 1.0\n",
    "    \n",
    "    agg.drop(columns=['y'], inplace=True)\n",
    "    \n",
    "    return agg\n",
    "\n",
    "def preprocess_data():\n",
    "    # structure of dataset folders, may be different for other implementations\n",
    "    all_files = os.listdir(f'{base_dir}/data/raw/{dataset}')\n",
    "    csv_files = [f for f in all_files if f.endswith('.csv')]\n",
    "    \n",
    "    df_list = []\n",
    "\n",
    "    for csv in tqdm(csv_files, desc='Files'):\n",
    "        file = os.path.join(f'{base_dir}/data/raw/{dataset}', csv)\n",
    "        file_name = os.path.basename(file)\n",
    "        \n",
    "        df = pd.read_csv(file)\n",
    "        df = df[['Vehicle_ID', 'Local_X', 'Local_Y', 'v_Vel', 'v_Acc', 'Lane_ID']]\n",
    "        \n",
    "        scaler = MinMaxScaler(feature_range=(0, 1))\n",
    "        df[['Local_X', 'Local_Y', 'v_Vel', 'v_Acc', 'Lane_ID']] = scaler.fit_transform(df[['Local_X', 'Local_Y', 'v_Vel', 'v_Acc', 'Lane_ID']])\n",
    "\n",
    "        vehicles = df.Vehicle_ID.unique()\n",
    "        \n",
    "        for vehicle in tqdm(vehicles, desc='Vehicles'):\n",
    "            vehicle_rows = df.loc[df['Vehicle_ID'] == vehicle]\n",
    "            vehicle_series = []\n",
    "            for _, row in vehicle_rows.iterrows():\n",
    "                vehicle_series.append([row['Local_X'], row['Local_Y'], row['v_Vel'], row['v_Acc'], row['Lane_ID']])\n",
    "            \n",
    "            df_list.append(series_to_data(vehicle_series))\n",
    "        \n",
    "    processed_data = pd.concat(df_list, ignore_index=True)\n",
    "    \n",
    "    class_values = processed_data[['LCL', 'LK', 'LCR']].idxmax(1)\n",
    "    class_weights = compute_class_weight('balanced', classes=['LCL', 'LK', 'LCR'], y=class_values)\n",
    "    \n",
    "    np.save(f'{base_dir}/data/processed/{dataset}/{t_o}_{t_p}_class_weights.npy', class_weights)\n",
    "    \n",
    "    train, valid, test = np.split(processed_data.sample(frac=1, random_state=42), [int(0.7*len(processed_data)), int(0.85*len(processed_data))])\n",
    "    \n",
    "    train = train.to_numpy()\n",
    "    valid = valid.to_numpy()\n",
    "    test = test.to_numpy()\n",
    "    \n",
    "    np.save(f'{base_dir}/data/processed/{dataset}/{t_o}_{t_p}_train.npy', train)\n",
    "    np.save(f'{base_dir}/data/processed/{dataset}/{t_o}_{t_p}_valid.npy', valid)\n",
    "    np.save(f'{base_dir}/data/processed/{dataset}/{t_o}_{t_p}_test.npy', test)"
   ]
  },
  {
   "cell_type": "code",
   "execution_count": 4,
   "id": "f9e4737c",
   "metadata": {},
   "outputs": [
    {
     "data": {
      "application/vnd.jupyter.widget-view+json": {
       "model_id": "64671c99e0f24b27ad67365cb51a2be2",
       "version_major": 2,
       "version_minor": 0
      },
      "text/plain": [
       "Files:   0%|          | 0/3 [00:00<?, ?it/s]"
      ]
     },
     "metadata": {},
     "output_type": "display_data"
    },
    {
     "data": {
      "application/vnd.jupyter.widget-view+json": {
       "model_id": "4b93389d14e94435b6c95ada9e9b380e",
       "version_major": 2,
       "version_minor": 0
      },
      "text/plain": [
       "Vehicles:   0%|          | 0/1993 [00:00<?, ?it/s]"
      ]
     },
     "metadata": {},
     "output_type": "display_data"
    },
    {
     "data": {
      "application/vnd.jupyter.widget-view+json": {
       "model_id": "c83a8df4cd5848c59b2076465e91562f",
       "version_major": 2,
       "version_minor": 0
      },
      "text/plain": [
       "Vehicles:   0%|          | 0/1298 [00:00<?, ?it/s]"
      ]
     },
     "metadata": {},
     "output_type": "display_data"
    },
    {
     "data": {
      "application/vnd.jupyter.widget-view+json": {
       "model_id": "1d2cd77e188b474d8285af8f5edb95ed",
       "version_major": 2,
       "version_minor": 0
      },
      "text/plain": [
       "Vehicles:   0%|          | 0/1533 [00:00<?, ?it/s]"
      ]
     },
     "metadata": {},
     "output_type": "display_data"
    }
   ],
   "source": [
    "if __name__ == '__main__':\n",
    "    preprocess_data()"
   ]
  },
  {
   "cell_type": "code",
   "execution_count": null,
   "id": "9f0df8a7",
   "metadata": {},
   "outputs": [],
   "source": []
  }
 ],
 "metadata": {
  "kernelspec": {
   "display_name": "Python 3 (ipykernel)",
   "language": "python",
   "name": "python3"
  },
  "language_info": {
   "codemirror_mode": {
    "name": "ipython",
    "version": 3
   },
   "file_extension": ".py",
   "mimetype": "text/x-python",
   "name": "python",
   "nbconvert_exporter": "python",
   "pygments_lexer": "ipython3",
   "version": "3.11.5"
  }
 },
 "nbformat": 4,
 "nbformat_minor": 5
}
